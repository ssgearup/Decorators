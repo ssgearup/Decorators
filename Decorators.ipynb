{
 "cells": [
  {
   "cell_type": "markdown",
   "metadata": {},
   "source": [
    "# Decorators"
   ]
  },
  {
   "cell_type": "code",
   "execution_count": 9,
   "metadata": {},
   "outputs": [
    {
     "name": "stdout",
     "output_type": "stream",
     "text": [
      "20\n",
      "pythonlanguage\n",
      "10string\n"
     ]
    }
   ],
   "source": [
    "#TAKE FUNCTION AS AN ARGUEMENT AND RETURN FUNCION\n",
    "#APPLYING '@' JUST BEFORE FUNCTION NAME \n",
    "\n",
    "def deco(func):\n",
    "    def new_func(val1,val2):\n",
    "        if type(val1)==type(val2):\n",
    "            return func(val1,val2)\n",
    "        else:\n",
    "            return func(str(val1),str(val2))\n",
    "        \n",
    "    return new_func\n",
    "\n",
    "@deco\n",
    "def concat(val1,val2):  # CONCAT FUNCTION WILL ACT AS AN PARAMETER FOR DECORATOR\n",
    "    return val1 + val2\n",
    "\n",
    "r= concat(10,10)\n",
    "print(r)\n",
    "\n",
    "r= concat(\"python\",\"language\")\n",
    "print(r)\n",
    "\n",
    "r=concat(10,\"string\")\n",
    "print(r)"
   ]
  },
  {
   "cell_type": "code",
   "execution_count": null,
   "metadata": {},
   "outputs": [],
   "source": []
  }
 ],
 "metadata": {
  "kernelspec": {
   "display_name": "Python 3",
   "language": "python",
   "name": "python3"
  },
  "language_info": {
   "codemirror_mode": {
    "name": "ipython",
    "version": 3
   },
   "file_extension": ".py",
   "mimetype": "text/x-python",
   "name": "python",
   "nbconvert_exporter": "python",
   "pygments_lexer": "ipython3",
   "version": "3.8.5"
  }
 },
 "nbformat": 4,
 "nbformat_minor": 4
}
